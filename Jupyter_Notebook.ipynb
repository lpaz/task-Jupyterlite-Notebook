{
 "cells": [
  {
   "cell_type": "markdown",
   "metadata": {},
   "source": [
    "<center>\n",
    "    <img src=\"https://cf-courses-data.s3.us.cloud-object-storage.appdomain.cloud/IBMDeveloperSkillsNetwork-DS0105EN-SkillsNetwork/labs/Module2/images/SN_web_lightmode.png\" width=\"300\" alt=\"cognitiveclass.ai logo\">\n",
    "</center>\n"
   ]
  },
  {
   "cell_type": "markdown",
   "metadata": {},
   "source": [
    "# Mi Cuaderno de Ciencia de Datos\n"
   ]
  },
  {
   "cell_type": "markdown",
   "metadata": {},
   "source": [
    "## Introducción  \n",
    "En este cuaderno exploraremos conceptos clave de la ciencia de datos, incluyendo lenguajes, bibliotecas y herramientas utilizadas en el campo.\n"
   ]
  },
  {
   "cell_type": "markdown",
   "metadata": {},
   "source": [
    "## Lenguajes de Ciencia de Datos  \n",
    "- Python  \n",
    "- R  \n",
    "- SQL  \n",
    "- Julia  \n",
    "- Scala  \n"
   ]
  },
  {
   "cell_type": "markdown",
   "metadata": {},
   "source": [
    "## Herramientas de Ciencia de Datos  \n",
    "| Herramienta   | Uso Principal |  \n",
    "|--------------|--------------|  \n",
    "| Jupyter Notebook | Desarrollo interactivo |  \n",
    "| RStudio   | Análisis en R |  \n",
    "| Apache Spark | Procesamiento de Big Data |  \n",
    "| Tableau | Visualización de datos |  \n",
    "| TensorFlow | Aprendizaje profundo |  \n"
   ]
  },
  {
   "cell_type": "markdown",
   "metadata": {},
   "source": [
    "## Expresiones Aritméticas  \n",
    "Ejemplos de operaciones matemáticas:  \n",
    "- Suma: `5 + 3 = 8`  \n",
    "- Resta: `10 - 4 = 6`  \n",
    "- Multiplicación: `7 * 2 = 14`  \n",
    "- División: `16 / 4 = 4`  "
   ]
  },
  {
   "cell_type": "code",
   "execution_count": 3,
   "metadata": {},
   "outputs": [
    {
     "name": "stdout",
     "output_type": "stream",
     "text": [
      "22\n"
     ]
    }
   ],
   "source": [
    "#\n",
    "# Multiplicación y suma\n",
    "resultado = (5 * 3) + 7\n",
    "print(resultado)"
   ]
  },
  {
   "cell_type": "code",
   "execution_count": 4,
   "metadata": {},
   "outputs": [
    {
     "name": "stdout",
     "output_type": "stream",
     "text": [
      "120 minutos son 2.0 horas.\n"
     ]
    }
   ],
   "source": [
    "# Conversión de minutos a horas\n",
    "minutos = 120\n",
    "horas = minutos / 60\n",
    "print(f\"{minutos} minutos son {horas} horas.\")"
   ]
  },
  {
   "cell_type": "code",
   "execution_count": 5,
   "metadata": {},
   "outputs": [
    {
     "name": "stdout",
     "output_type": "stream",
     "text": [
      "- Aprender Python\n",
      "- Usar Pandas\n",
      "- Visualizar datos\n",
      "- Aplicar Machine Learning\n"
     ]
    }
   ],
   "source": [
    "# Lista de objetivos\n",
    "objetivos = [\"Aprender Python\", \"Usar Pandas\", \"Visualizar datos\", \"Aplicar Machine Learning\"]\n",
    "for objetivo in objetivos:\n",
    "    print(\"- \" + objetivo)"
   ]
  },
  {
   "cell_type": "markdown",
   "metadata": {},
   "source": [
    "## Autor  \n",
    "**Luis Paz**  \n"
   ]
  }
 ],
 "metadata": {
  "kernelspec": {
   "display_name": "Python 3 (ipykernel)",
   "language": "python",
   "name": "python3"
  },
  "language_info": {
   "codemirror_mode": {
    "name": "ipython",
    "version": 3
   },
   "file_extension": ".py",
   "mimetype": "text/x-python",
   "name": "python",
   "nbconvert_exporter": "python",
   "pygments_lexer": "ipython3",
   "version": "3.12.8"
  },
  "prev_pub_hash": "9e1985db9844176462bd1d5863048c9f3d17404bbc6a648be9084b0c42b29347"
 },
 "nbformat": 4,
 "nbformat_minor": 4
}
